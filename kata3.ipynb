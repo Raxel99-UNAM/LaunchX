{
 "cells": [
  {
   "cell_type": "markdown",
   "metadata": {},
   "source": [
    "## Asteroide 1"
   ]
  },
  {
   "cell_type": "code",
   "execution_count": 32,
   "metadata": {},
   "outputs": [
    {
     "name": "stdout",
     "output_type": "stream",
     "text": [
      "Advertencia, asteroide acercándose\n"
     ]
    }
   ],
   "source": [
    "asteroide = 49\n",
    "advertencia = 25\n",
    "\n",
    "if asteroide > advertencia:\n",
    "    print(\"Advertencia, asteroide acercándose\")\n",
    "else:\n",
    "    print(\"Asteroide a distancia fuera de peligro\")"
   ]
  },
  {
   "cell_type": "markdown",
   "metadata": {},
   "source": [
    "## Asteroide 2 (prueba con números al azar)"
   ]
  },
  {
   "cell_type": "code",
   "execution_count": 33,
   "metadata": {},
   "outputs": [
    {
     "name": "stdout",
     "output_type": "stream",
     "text": [
      "Asteroide fuera de rango visible\n"
     ]
    }
   ],
   "source": [
    "import random\n",
    "asteroide = random.randint(0,50)\n",
    "distancia = 20\n",
    "\n",
    "if asteroide > distancia:\n",
    "    print(\"Asteroide visible\")\n",
    "elif asteroide == distancia:\n",
    "    print(\"Asteroide visible\")\n",
    "else:\n",
    "    print(\"Asteroide fuera de rango visible\")\n"
   ]
  },
  {
   "cell_type": "markdown",
   "metadata": {},
   "source": [
    "## Asteroide 3"
   ]
  },
  {
   "cell_type": "code",
   "execution_count": 46,
   "metadata": {},
   "outputs": [
    {
     "name": "stdout",
     "output_type": "stream",
     "text": [
      "Todo tranqui\n"
     ]
    }
   ],
   "source": [
    "import random\n",
    "V_asteroide = random.randint(0,100)\n",
    "Size_asteroide = random.randint(0,100)\n",
    "\n",
    "if V_asteroide > 25 and Size_asteroide > 25:\n",
    "    print(\"Advertencia, asteroide acercándose\")\n",
    "elif V_asteroide >= 20:\n",
    "    print(\"Asteroide visible\")\n",
    "elif Size_asteroide < 25:\n",
    "    print(\"Todo tranqui\")\n",
    "else:\n",
    "    print(\"Todo tranqui\")"
   ]
  }
 ],
 "metadata": {
  "interpreter": {
   "hash": "e316b8a26c3f022afd87030973b902d415a0519989c5fb36230ff14406196549"
  },
  "kernelspec": {
   "display_name": "Python 3.10.2 64-bit",
   "language": "python",
   "name": "python3"
  },
  "language_info": {
   "codemirror_mode": {
    "name": "ipython",
    "version": 3
   },
   "file_extension": ".py",
   "mimetype": "text/x-python",
   "name": "python",
   "nbconvert_exporter": "python",
   "pygments_lexer": "ipython3",
   "version": "3.10.2"
  },
  "orig_nbformat": 4
 },
 "nbformat": 4,
 "nbformat_minor": 2
}
