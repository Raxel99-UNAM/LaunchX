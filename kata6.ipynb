{
 "cells": [
  {
   "cell_type": "markdown",
   "metadata": {},
   "source": [
    "## Listas"
   ]
  },
  {
   "cell_type": "code",
   "execution_count": 29,
   "metadata": {},
   "outputs": [
    {
     "name": "stdout",
     "output_type": "stream",
     "text": [
      "There are 8 planets\n",
      "Pluton is the last planet of the list\n"
     ]
    }
   ],
   "source": [
    "planets = ['Mercury','Venus','Earth','Mars','Jupiter','Saturn','Uranus,','Neptuno']\n",
    "print(\"There are\",len(planets), \"planets\")\n",
    "\n",
    "planets.append(\"Pluton\")\n",
    "print(planets[-1], \"is the last planet of the list\")"
   ]
  },
  {
   "cell_type": "markdown",
   "metadata": {},
   "source": [
    "Ejercicio 2"
   ]
  },
  {
   "cell_type": "code",
   "execution_count": 30,
   "metadata": {},
   "outputs": [
    {
     "name": "stdout",
     "output_type": "stream",
     "text": [
      "The planets that are closer than Mars\n",
      "['Mercury', 'Venus', 'Earth']\n",
      "The planets that are further than Mars\n",
      "['Jupiter', 'Saturn', 'Uranus,', 'Neptune']\n"
     ]
    }
   ],
   "source": [
    "planets = ['Mercury','Venus','Earth','Mars','Jupiter','Saturn','Uranus,','Neptune']\n",
    "planet_name = input(\"Please introduce the name of the planet (with capital letter first\")\n",
    "\n",
    "planet_index = planets.index(planet_name)\n",
    "\n",
    "print(\"The planets that are closer than\", planet_name)\n",
    "print(planets[0:planet_index])\n",
    "\n",
    "print(\"The planets that are further than\", planet_name)\n",
    "print(planets[planet_index+1:])"
   ]
  },
  {
   "cell_type": "markdown",
   "metadata": {},
   "source": [
    "## Test"
   ]
  },
  {
   "cell_type": "code",
   "execution_count": 31,
   "metadata": {},
   "outputs": [
    {
     "name": "stdout",
     "output_type": "stream",
     "text": [
      "The planets that are closer than Mars\n",
      "['Mercury', 'Venus', 'Earth']\n",
      "The planets that are further than Mars\n",
      "['Jupiter', 'Saturn', 'Uranus,', 'Neptune']\n"
     ]
    }
   ],
   "source": [
    "planets = ['Mercury','Venus','Earth','Mars','Jupiter','Saturn','Uranus','Neptune']\n",
    "planet_name = input(\"Please introduce the name of the planet (with capital letter first)\")\n",
    "\n",
    "planet_index = planets.index(planet_name)\n",
    "\n",
    "if planet_name == \"Mercury\":\n",
    "    print(\"It does not exist any known planet closer tan\", planet_name)\n",
    "else:\n",
    "    print(\"The planets that are closer than\", planet_name)\n",
    "    print(planets[0:planet_index])\n",
    "\n",
    "if planet_name == \"Neptune\":\n",
    "    print(\"It does not exist any known planet further tan\", planet_name)\n",
    "else:\n",
    "    print(\"The planets that are further than \" + planet_name)\n",
    "    print(planets[planet_index+1:])\n"
   ]
  }
 ],
 "metadata": {
  "interpreter": {
   "hash": "f5d07c60dc46c22d1561a4ec363b69cc3c591f8007d8eae627a2ce94269aaa22"
  },
  "kernelspec": {
   "display_name": "Python 3.10.2 64-bit (windows store)",
   "language": "python",
   "name": "python3"
  },
  "language_info": {
   "codemirror_mode": {
    "name": "ipython",
    "version": 3
   },
   "file_extension": ".py",
   "mimetype": "text/x-python",
   "name": "python",
   "nbconvert_exporter": "python",
   "pygments_lexer": "ipython3",
   "version": "3.10.2"
  },
  "orig_nbformat": 4
 },
 "nbformat": 4,
 "nbformat_minor": 2
}
