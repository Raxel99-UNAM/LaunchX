{
 "cells": [
  {
   "cell_type": "code",
   "execution_count": 21,
   "metadata": {},
   "outputs": [
    {
     "name": "stdout",
     "output_type": "stream",
     "text": [
      "Fuel Report:\n",
      "    Promedio: 83.66666666666667%\n",
      "    Tank1: 82%\n",
      "    Tank2: 69%\n",
      "    Tank3: 100%\n"
     ]
    }
   ],
   "source": [
    "import random \n",
    "\n",
    "tank1 = random.randint(0,100)\n",
    "tank2 = random.randint(0,100)\n",
    "tank3 = random.randint(0,100)\n",
    "\n",
    "def promedio(values):\n",
    "    total = sum(values)\n",
    "    items_numbers = len(values)\n",
    "    return total/items_numbers\n",
    "\n",
    "\n",
    "def report(tank1, tank2, tank3):\n",
    "    return f\"\"\"Fuel Report:\n",
    "    Promedio: {promedio([tank1,tank2,tank3])}%\n",
    "    Tank1: {tank1}%\n",
    "    Tank2: {tank2}%\n",
    "    Tank3: {tank3}%\"\"\"\n",
    "\n",
    "print(report(tank1,tank2,tank3))\n",
    "\n"
   ]
  }
 ],
 "metadata": {
  "interpreter": {
   "hash": "f5d07c60dc46c22d1561a4ec363b69cc3c591f8007d8eae627a2ce94269aaa22"
  },
  "kernelspec": {
   "display_name": "Python 3.10.2 64-bit (windows store)",
   "language": "python",
   "name": "python3"
  },
  "language_info": {
   "codemirror_mode": {
    "name": "ipython",
    "version": 3
   },
   "file_extension": ".py",
   "mimetype": "text/x-python",
   "name": "python",
   "nbconvert_exporter": "python",
   "pygments_lexer": "ipython3",
   "version": "3.10.2"
  },
  "orig_nbformat": 4
 },
 "nbformat": 4,
 "nbformat_minor": 2
}
